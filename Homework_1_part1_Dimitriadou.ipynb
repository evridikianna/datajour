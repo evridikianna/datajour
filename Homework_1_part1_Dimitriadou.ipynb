{
  "nbformat": 4,
  "nbformat_minor": 0,
  "metadata": {
    "kernelspec": {
      "display_name": "Python 3",
      "language": "python",
      "name": "python3"
    },
    "language_info": {
      "codemirror_mode": {
        "name": "ipython",
        "version": 3
      },
      "file_extension": ".py",
      "mimetype": "text/x-python",
      "name": "python",
      "nbconvert_exporter": "python",
      "pygments_lexer": "ipython3",
      "version": "3.6.7"
    },
    "colab": {
      "name": "Homework-1-part1-Dimitriadou.ipynb",
      "provenance": [],
      "include_colab_link": true
    }
  },
  "cells": [
    {
      "cell_type": "markdown",
      "metadata": {
        "id": "view-in-github",
        "colab_type": "text"
      },
      "source": [
        "<a href=\"https://colab.research.google.com/github/evridikianna/datajour/blob/main/Homework_1_part1_Dimitriadou.ipynb\" target=\"_parent\"><img src=\"https://colab.research.google.com/assets/colab-badge.svg\" alt=\"Open In Colab\"/></a>"
      ]
    },
    {
      "cell_type": "code",
      "metadata": {
        "id": "3lar__NrpU4N"
      },
      "source": [
        ""
      ],
      "execution_count": null,
      "outputs": []
    },
    {
      "cell_type": "markdown",
      "metadata": {
        "collapsed": true,
        "id": "snz-DMl9pU4Q"
      },
      "source": [
        "##  Εβδομάδα 1 - Εισαγωγή στην Python\n",
        "\n",
        "**Θεωρία**\n",
        "\n",
        "Η **Python** είναι γλώσσα προγραμματισμού υψηλού επιπέδου, ανοικτού πηγαίου κώδικα (open source) και γενικής χρήσης. Είναι\n",
        "εύκολη στην εκμάθηση (απλούστερη από τις C, C++, Java) και παρέχει ισχυρές δυνατότητες σε αρχάριους και έμπειρους προγραμματιστές.\n",
        "\n",
        "\n",
        "**Τιμές και τύποι**\n",
        "\n",
        "Η έννοια της τιμής αναφέρεται σε μεταβλητές αλλά και σε σταθερές τιμές. Επίσης, τιμές μπορεί να είναι οι αριθμοί αλλά και οι αριθμητικές εκφράσεις, όπως αν γράψετε 1+1. Ωστόσο, τιμή είναι και η έκφραση ‘hello world’. \n",
        "\n",
        "Κάθε τιμή ανήκει σε κάποιον τύπο (ακέραιοι αριθμοί, ομάδες χαρακτήρων ή strings, κλπ.). Η ομάδα χαρακτήρων είναι ένας από τους θεμελιώδεις τύπους της Python και σταθερές του τύπου ομάδα χαρακτήρων (ή συμβολοσειρά) τις οποίες περικλείουμε με εισαγωγικά (μονά (‘) ή διπλά (‘‘)) αρχής και τέλους. \n",
        "\n",
        "Η εντολή εκτύπωσης δουλεύει, βεβαίως, με ακέραιους αριθμούς και με πολλούς άλλους τύπους, όπως θα δούμε αργότερα.\n",
        "Με τον όρο κυριολεκτικές σταθερές (literal constants) αναφερόμαστε σε προκαθορισμένες τιμές που παραμένουν αμετάβλητες σε όλη τη διάρκεια εκτέλεσης ενός προγράμματος.\n",
        "\n",
        "Παραδείγματα τιμών:\n",
        "• 3,\n",
        "• 2.5,\n",
        "• ‘Hello, World!’\n",
        "\n",
        "Αυτές οι τιμές ανήκουν σε διαφορετικούς τύπους (types):\n",
        "\n",
        "• 3 είναι ένας ακέραιος αριθμός (integer).\n",
        "\n",
        "• 2.5 είναι ένας αριθμός κινητής υποδιαστολής (float).\n",
        "\n",
        "• ‘Hello, World!’ είναι μια συμβολοσειρά (string). Πρόκειται για μια ακολουθία από χαρακτήρες οι οποίοι περικλείονται σε μονά ή διπλά εισαγωγικά.\n",
        "\n",
        "• Εκτύπωση με χρήση της εντολής print."
      ]
    },
    {
      "cell_type": "code",
      "metadata": {
        "id": "W2Ml-hdvpU4U",
        "outputId": "62e9b067-9a3b-403b-d578-2791916fb7f9"
      },
      "source": [
        "a = 12344\n",
        "c = 55\n",
        "d = 1000\n",
        "a + c + d"
      ],
      "execution_count": null,
      "outputs": [
        {
          "output_type": "execute_result",
          "data": {
            "text/plain": [
              "13399"
            ]
          },
          "metadata": {
            "tags": []
          },
          "execution_count": 6
        }
      ]
    },
    {
      "cell_type": "code",
      "metadata": {
        "id": "evM2qn-HpU4V",
        "outputId": "d4828df6-a16c-43ed-9166-8af5321e7bb6"
      },
      "source": [
        "b =\"Kostas Mourlas\"\n",
        "print(b)"
      ],
      "execution_count": null,
      "outputs": [
        {
          "output_type": "stream",
          "text": [
            "Kostas Mourlas\n"
          ],
          "name": "stdout"
        }
      ]
    },
    {
      "cell_type": "code",
      "metadata": {
        "id": "KjmmghgtpU4V",
        "outputId": "e7f1a099-ed3b-4246-c77c-93e74bc9730b"
      },
      "source": [
        "a = 17\n",
        "a = \"Costas\"\n",
        "b = \"Mourlas\"\n",
        "a + \" \" + b + \" \" + str(d)"
      ],
      "execution_count": null,
      "outputs": [
        {
          "output_type": "execute_result",
          "data": {
            "text/plain": [
              "'Costas Mourlas 1000'"
            ]
          },
          "metadata": {
            "tags": []
          },
          "execution_count": 12
        }
      ]
    },
    {
      "cell_type": "markdown",
      "metadata": {
        "id": "39OO1AdFpU4W"
      },
      "source": [
        "Τύπος `int`  ακέραιοι αριθμοί\n",
        "\n",
        "Τύπος `float`  αριθμοί κινητής υποδιαστολής (δεκαδικοί αριθμοί)\n",
        "\n",
        "Τύπος `str`  συμβολοσειρές (ακολουθίες χαρακτήρων)"
      ]
    },
    {
      "cell_type": "code",
      "metadata": {
        "id": "H8QB5h0kpU4W",
        "outputId": "a8ddb188-a204-4cac-97c2-94c4c1dd0365"
      },
      "source": [
        "# Συμβολοσειρές'str' \n",
        "print (str(3) + \"3\")\n",
        "# Μετατρέψτε το 3 σε STRING\n",
        "print (\"3\" + \"3\")\n",
        "# Μετατρέψτε το 3 σε INTEGER\n",
        "print(int(\"134\") + 3)\n",
        "print(3/4)"
      ],
      "execution_count": null,
      "outputs": [
        {
          "output_type": "stream",
          "text": [
            "33\n",
            "33\n",
            "137\n",
            "0.75\n"
          ],
          "name": "stdout"
        }
      ]
    },
    {
      "cell_type": "code",
      "metadata": {
        "id": "JadMLudBpU4W",
        "outputId": "75061c86-4fc8-40cf-873f-cf0aa407a31f"
      },
      "source": [
        "v =\"1313233\"\n",
        "int(v)"
      ],
      "execution_count": null,
      "outputs": [
        {
          "output_type": "execute_result",
          "data": {
            "text/plain": [
              "1313233"
            ]
          },
          "metadata": {
            "tags": []
          },
          "execution_count": 102
        }
      ]
    },
    {
      "cell_type": "markdown",
      "metadata": {
        "id": "XqhMlxu4pU4X"
      },
      "source": [
        "## Μεταβλητές"
      ]
    },
    {
      "cell_type": "markdown",
      "metadata": {
        "id": "4P6LrMXrpU4X"
      },
      "source": [
        "Τώρα, λοιπόν, γνωρίζουμε ότι έχουμε σταθερές τιμές, αλλά έχουμε και μεταβλητές\n",
        "τιμές. Από τα πιο δυνατά χαρακτηριστικά μιας γλώσσας προγραμματισμού είναι\n",
        "η δυνατότητα διαχείρισης μεταβλητών. Η **μεταβλητή (variable)** είναι ένα όνομα\n",
        "που αναφέρεται σε μια τιμή."
      ]
    },
    {
      "cell_type": "markdown",
      "metadata": {
        "id": "APVQF7F1pU4X"
      },
      "source": [
        "Τα ονόματα μεταβλητών μπορούν να περιέχουν αριθμούς και γράμματα, αλλά\n",
        "πρέπει να ξεκινούν με ένα γράμμα.\n",
        "\n",
        "Τα πεζά διακρίνονται από τα κεφαλαία:\n",
        "    \n",
        "• **Course** και **course** είναι διαφορετικές μεταβλητές.\n",
        "\n",
        "• **myname** και **myName** είναι διαφορετικές μεταβλητές."
      ]
    },
    {
      "cell_type": "code",
      "metadata": {
        "id": "nSbyIeWrpU4Y",
        "outputId": "cc1d15fa-0cf8-45a9-e784-9387f17e6d97"
      },
      "source": [
        "name= \"Helen\" \n",
        "print ('Hello ', name, \"!!!\")"
      ],
      "execution_count": null,
      "outputs": [
        {
          "output_type": "stream",
          "text": [
            "Hello  Helen !!!\n"
          ],
          "name": "stdout"
        }
      ]
    },
    {
      "cell_type": "code",
      "metadata": {
        "id": "IDgHMMrppU4Y"
      },
      "source": [
        "age= input(\"Πόσο χρονών είσαι?\")\n",
        "print(5*age)\n",
        "hlikia = int(age)\n",
        "print(hlikia)\n",
        "print(2*hlikia)"
      ],
      "execution_count": null,
      "outputs": []
    },
    {
      "cell_type": "markdown",
      "metadata": {
        "id": "n-1HkYpwpU4Y"
      },
      "source": [
        "Ως εδώ κάτι έχω καταλάβει....."
      ]
    },
    {
      "cell_type": "code",
      "metadata": {
        "id": "3LnJvQ_dpU4Y",
        "outputId": "9749cdf5-d2e1-436f-b9c9-626b286e79ff"
      },
      "source": [
        "age =55\n",
        "print('Hello world')\n",
        "print (\"Hello world\")\n",
        "print (2+2)\n",
        "print('Hello world')"
      ],
      "execution_count": null,
      "outputs": [
        {
          "output_type": "stream",
          "text": [
            "Hello world\n",
            "Hello world\n",
            "4\n",
            "Hello world\n"
          ],
          "name": "stdout"
        }
      ]
    },
    {
      "cell_type": "code",
      "metadata": {
        "id": "depaQMuapU4Z",
        "outputId": "3c8ed8da-eed9-4ce9-b9b0-3b0f055b67fe"
      },
      "source": [
        "print(\"age\", age)\n",
        "arithos  = 5\n",
        "A = 200\n",
        "print(arithos +A)\n",
        "print(A,name,\"Γεια σου\")"
      ],
      "execution_count": null,
      "outputs": [
        {
          "output_type": "stream",
          "text": [
            "age 55\n",
            "205\n",
            "200 Helen Γεια σου\n"
          ],
          "name": "stdout"
        }
      ]
    },
    {
      "cell_type": "markdown",
      "metadata": {
        "id": "K9zAf89XpU4Z"
      },
      "source": [
        "## Πολλαπλές εκχωρήσεις\n",
        "Όπως ίσως θα έχετε διαπιστώσει, είναι νόμιμο να γίνουν παραπάνω από μία εκχωρήσεις σε μια μεταβλητή. \n",
        "\n",
        "Μια νέα εκχώρηση κάνει μια μεταβλητή να αναφέρεται σε μία **νέα τιμή** και να σταματήσει να αναφέρεται στην παλιά τιμή"
      ]
    },
    {
      "cell_type": "code",
      "metadata": {
        "id": "nwtYhO4dpU4a",
        "outputId": "8d8f5f9d-d6e4-4cf6-93c0-d91ad7a26eef"
      },
      "source": [
        "value = 1\n",
        "print(value)"
      ],
      "execution_count": null,
      "outputs": [
        {
          "output_type": "stream",
          "text": [
            "1\n"
          ],
          "name": "stdout"
        }
      ]
    },
    {
      "cell_type": "code",
      "metadata": {
        "id": "s9JhNA2wpU4a",
        "outputId": "00ba1f51-3599-4c6b-d6bf-836724857c97"
      },
      "source": [
        "value = 2\n",
        "print(value)"
      ],
      "execution_count": null,
      "outputs": [
        {
          "output_type": "stream",
          "text": [
            "2\n"
          ],
          "name": "stdout"
        }
      ]
    },
    {
      "cell_type": "markdown",
      "metadata": {
        "id": "3Yo3Ea8HpU4a"
      },
      "source": [
        "## Υπό συνθήκη (Conditional)"
      ]
    },
    {
      "cell_type": "markdown",
      "metadata": {
        "id": "RVP0J-UNpU4b"
      },
      "source": [
        "## Εντολές\n",
        "\n",
        "Έχουμε δει, ήδη, δύο είδη εντολών: print (εκτύπωση) και assignment (εκχώρηση).\n",
        "\n",
        "Οι εντολές γενικότερα εκτελούνται από το διερμηνευτή της Python. Όταν γράφετε μια εντολή στη γραμμή εντολών (command line), ο διερμηνευτής την εκτελεί και δείχνει στην οθόνη το αποτέλεσμα, αν η εντολή είναι εντολή εξόδου. Στην περίπτωση του print είναι, ενώ στην περίπτωση της εκχώρησης δεν είναι. Ένα πρόγραμμα ή ένα σενάριο (script) όπως ονομάζεται στην Python, συνήθως περιέχει\n",
        "περισσότερες της μίας εντολές. "
      ]
    },
    {
      "cell_type": "code",
      "metadata": {
        "id": "5PXnNlfYpU4b",
        "outputId": "b87ddf44-5511-4c6f-cd2a-76d4427c23e2"
      },
      "source": [
        "#Αν η μεταβλητή'age' είναι μικρότερη του 18,\n",
        "#τότε τύπωσε αυτό που πρέπει \n",
        "# Να προσέχω να βάζω : στο τέλος κάθε εντολής if\n",
        "\n",
        "if (hlikia < 18):\n",
        "    print(\"Απαγορεύεται να αγοράσεις αλκοόλ\")\n",
        "    print(\"Συγγνώμη\")\n",
        "else:\n",
        "    print (\"Αγόρασε σε παρακαλώ 20 μπύρες\")\n",
        "    print ( \"Θα σε πληρώσω αργότερα\")\n",
        "    print(\"Ας κάνουμε ένα πάρτυ!\")"
      ],
      "execution_count": null,
      "outputs": [
        {
          "output_type": "stream",
          "text": [
            "Απαγορεύεται να αγοράσεις αλκοόλ\n",
            "Συγγνώμη\n"
          ],
          "name": "stdout"
        }
      ]
    },
    {
      "cell_type": "markdown",
      "metadata": {
        "id": "JcUR0kyupU4b"
      },
      "source": [
        "Στο παρακάτω παράδειγμα στο οποίο ελέγχουμε για ισότητα της μεταβλητής x με το 2 (η σύγκριση για ισότητα εκφράζεται με δύο ίσον (==)\n",
        "σε αντίθεση με την εκχώρηση (=)). \n",
        "\n",
        "Αν το 3 είναι ίσον με το 2, ακολουθεί η άνω-κάτω-τελεία (:), που σημαίνει ότι τελείωσε το κομμάτι της συνθήκης και τώρα πάμε να εκτελέσουμε αν ισχύει η συνθήκη. \n",
        "\n",
        "Αν το 3 ήταν ίσο με 2, που δεν είναι, τότε θα εκτυπώναμε την τιμή του x, διαφορετικά (κάτι που ισχύει εδώ) το x παίρνει την τιμή 3 και μετά τυπώνουμε το x."
      ]
    },
    {
      "cell_type": "code",
      "metadata": {
        "id": "CGzpQAjopU4b",
        "outputId": "77554da6-6128-4c58-959b-f4cc8d3bfa65"
      },
      "source": [
        "x = 4\n",
        "\n",
        "if x == 3:\n",
        "    print(x)\n",
        "else:\n",
        "    print(\"To x δεν είναι 3\")\n",
        "    x = 3\n",
        "    \n",
        "#print(x)"
      ],
      "execution_count": null,
      "outputs": [
        {
          "output_type": "stream",
          "text": [
            "To x δεν είναι 3\n"
          ],
          "name": "stdout"
        }
      ]
    },
    {
      "cell_type": "code",
      "metadata": {
        "id": "M_cBIJsYpU4c",
        "outputId": "4be1085a-49c3-4aab-e209-548bb190521a"
      },
      "source": [
        "x"
      ],
      "execution_count": null,
      "outputs": [
        {
          "output_type": "execute_result",
          "data": {
            "text/plain": [
              "3"
            ]
          },
          "metadata": {
            "tags": []
          },
          "execution_count": 46
        }
      ]
    },
    {
      "cell_type": "markdown",
      "metadata": {
        "id": "PBG1ks2XpU4c"
      },
      "source": [
        "## Λάθη\n",
        "\n",
        "Αν κάνουμε κάποιο συντακτικό λάθος (π.χ. παραλείψουμε το :) η λειτουργία check module («έλεγξε το πρόγραμμα») θα μας πει ότι δεν είναι σωστή η σύνταξη και θα κοκκινίσει το μέρος όπου βλέπει κάποιο λάθος. \n",
        "Έτσι θα το διορθώσουμε, θα το ξανατρέξουμε και εφόσον δεν υπάρχει συντακτικό λάθος στο πρόγραμμα,θα τυπώσει 3, όπως αναμένουμε.\n",
        "\n",
        "\n",
        "Αν υποθέσουμε ότι για κάποιο λόγο είχαμε βάλει print y, το οποίο δεν είναι ορισμένο, αυτό δεν είναι συντακτικό λάθος.\n",
        "\n"
      ]
    },
    {
      "cell_type": "code",
      "metadata": {
        "id": "gJ9rEs0NpU4c",
        "outputId": "c4620c5c-803a-4230-d7cb-100258323c8d"
      },
      "source": [
        "x = 3\n",
        "y = 0\n",
        "if y == 3:\n",
        "    print(y)\n",
        "else:\n",
        "    y = 3\n",
        "    \n",
        "print(y)"
      ],
      "execution_count": null,
      "outputs": [
        {
          "output_type": "stream",
          "text": [
            "3\n"
          ],
          "name": "stdout"
        }
      ]
    },
    {
      "cell_type": "markdown",
      "metadata": {
        "id": "dE1fxYZepU4d"
      },
      "source": [
        "Οι μεταβλητές δηλώνονται την πρώτη φορά που τις χρησιμοποιούμε. Αλλά αν προσπαθήσουμε να το τρέξουμε, τότε βλέπετε ότι έχουμε το λεγόμενο run time error, λάθος κατά το χρόνο εκτέλεσης γιατί, προφανώς, δεν ήταν ορισμένο, επομένως δεν μπορεί να τυπωθεί κάτι, αφού δεν ξέρει την τιμή.\n",
        "\n",
        "Είδαμε, λοιπόν, δύο διαφορετικές πολύ μεγάλες κατηγορίες λαθών, τα πρώτα, σχετικά πιο εύκολα, τα λεγόμενα συντακτικά λάθη, δηλαδή, στη σύνταξη της γλώσσας και τα άλλα πιο δύσκολα να αντιληφθεί κανείς, τα λεγόμενα λάθη εκτέλεσης, run time error. \n",
        "\n",
        "Είναι πολύ σημαντικό να γίνει κατανοητή αυτή η σημαντική διαφορά μεταξύ αυτών των δύο κατηγοριών λαθών."
      ]
    },
    {
      "cell_type": "markdown",
      "metadata": {
        "id": "L0jFBVudpU4d"
      },
      "source": [
        "## Συμβολοσειρές, λίστες, λεξικά, μέθοδοι\n",
        "\n",
        "**Θεωρία**\n",
        "\n",
        "Σήμερα θα δούμε επίσης, τις βασικές δομές δεδομένων, όπως οι συμβολοσειρές (strings), οι λίστες (lists), οι πλειάδες (tuples)\n",
        "και τα λεξικά (dictionaries), καθώς και της διαχείρισής τους."
      ]
    },
    {
      "cell_type": "markdown",
      "metadata": {
        "id": "K7tISWllpU4d"
      },
      "source": [
        "**Συμβολοσειρές**\n",
        "\n",
        "\n",
        "Μια συμβολοσειρά είναι μια ακολουθία από χαρακτήρες. Οι συμβολοσειρές ανήκουν στον τύπο δεδομένων `str`. Μπορείτε να ορίσετε συμβολοσειρές με μονά (‘) ή διπλά (‘‘) εισαγωγικά:"
      ]
    },
    {
      "cell_type": "code",
      "metadata": {
        "id": "kuE48zlVpU4d",
        "outputId": "ee35bc70-504f-4c9f-dcdb-cbeeaffc3ecb"
      },
      "source": [
        "name = 'Vasilis'\n",
        "name"
      ],
      "execution_count": null,
      "outputs": [
        {
          "output_type": "execute_result",
          "data": {
            "text/plain": [
              "'Vasilis'"
            ]
          },
          "metadata": {
            "tags": []
          },
          "execution_count": 49
        }
      ]
    },
    {
      "cell_type": "code",
      "metadata": {
        "id": "JMJ2VcyhpU4d",
        "outputId": "2aade517-196d-4458-ca7c-d26cd0296325"
      },
      "source": [
        "name = \"Vasilis\"\n",
        "name"
      ],
      "execution_count": null,
      "outputs": [
        {
          "output_type": "execute_result",
          "data": {
            "text/plain": [
              "'Vasilis'"
            ]
          },
          "metadata": {
            "tags": []
          },
          "execution_count": 50
        }
      ]
    },
    {
      "cell_type": "markdown",
      "metadata": {
        "id": "q5Y4oH4jpU4e"
      },
      "source": [
        "Τα μονά εισαγωγικά (‘) μπορείτε να τα χρησιμοποιείτε ελεύθερα μέσα σε διπλά εισαγωγικά (‘‘)"
      ]
    },
    {
      "cell_type": "code",
      "metadata": {
        "id": "aHjJ-Z5upU4e",
        "outputId": "ce16eedb-af59-463f-b6ea-f939971cf11c"
      },
      "source": [
        "print(\"Let's party!\")"
      ],
      "execution_count": null,
      "outputs": [
        {
          "output_type": "stream",
          "text": [
            "Let's party!\n"
          ],
          "name": "stdout"
        }
      ]
    },
    {
      "cell_type": "code",
      "metadata": {
        "id": "K-wA6xPPpU4e",
        "outputId": "8dd2207d-073c-4e50-93d9-dec607ea31b1"
      },
      "source": [
        "c = '''Μπορείτε να ορίσετε συμβολοσειρές πολλαπλών γραμμών με τριπλά εισαγωγικά (τρία διπλά ‘‘‘‘‘‘ ή τρία μονά ‘‘‘).  \n",
        "Βλέπετε ότι με τα τριπλά εισαγωγικά μπορούμε να αλλάξουμε και γραμμή, \n",
        "χωρίς να χρειάζεται να βάλουμε την ακολουθία διαφυγής'''\n",
        "\n",
        "print(c)"
      ],
      "execution_count": null,
      "outputs": [
        {
          "output_type": "stream",
          "text": [
            "Μπορείτε να ορίσετε συμβολοσειρές πολλαπλών γραμμών με τριπλά εισαγωγικά (τρία διπλά ‘‘‘‘‘‘ ή τρία μονά ‘‘‘).  \n",
            "Βλέπετε ότι με τα τριπλά εισαγωγικά μπορούμε να αλλάξουμε και γραμμή, \n",
            "χωρίς να χρειάζεται να βάλουμε την ακολουθία διαφυγής\n"
          ],
          "name": "stdout"
        }
      ]
    },
    {
      "cell_type": "markdown",
      "metadata": {
        "id": "8ZV_STCEpU4f"
      },
      "source": [
        "## Λίστες\n",
        "\n",
        "Η λίστα είναι ο δεύτερος σύνθετος τύπος (μετά τις συμβολοσειρές) στον οποίο αναφερόμαστε στην Python. Οι λίστες (`lists`), δηλώνουν πράγματα καθώς και διατεταγμένα σύνολα τιμών. Οι τιμές (μέλη μιας λίστας) λέγονται στοιχεία (`elements`).\n",
        "\n",
        "Ο όρος «διατεταγμένα» σημαίνει ότι μπορούμε να ορίσουμε ότι αυτό είναι το πρώτο, αυτό είναι δεύτερο, αυτό τρίτο κλπ. Οι λίστες είναι παρόμοιες με τις συμβολοσειρές, οι οποίες είναι διατεταγμένα σύνολα χαρακτήρων, ωστόσο τα στοιχεία μιας λίστας μπορεί να είναι οποιουδήποτε τύπου. \n",
        "\n",
        "Μπορεί να είναι νούμερα, ακέραιοι, πραγματικοί, μπορεί να είναι άλλες λίστες. Μπορεί να περιέχουν στοιχεία οποιουδήποτε τύπου της Python και όλα αυτά να τα βάζουμε μαζί γιατί πιστεύουμε ότι πρέπει να είναι μαζί. "
      ]
    },
    {
      "cell_type": "markdown",
      "metadata": {
        "id": "_533dATspU4f"
      },
      "source": [
        "Ο απλούστερος τρόπος να δημιουργήσει κανείς μια λίστα, είναι να βάλει τα στοιχεία της μέσα σε [ ]. "
      ]
    },
    {
      "cell_type": "code",
      "metadata": {
        "id": "y6LrcqGMpU4f"
      },
      "source": [
        "L = [\"Dimitris\", \"Sotiris\", \"Katerina\", \"Christos\", \"Eleni\"]"
      ],
      "execution_count": null,
      "outputs": []
    },
    {
      "cell_type": "code",
      "metadata": {
        "id": "fR6lb0PWpU4f"
      },
      "source": [
        "grades = [5, 6,7,8,3]"
      ],
      "execution_count": null,
      "outputs": []
    },
    {
      "cell_type": "code",
      "metadata": {
        "id": "49XcWmrNpU4g",
        "outputId": "8c5c5251-dff3-4555-f21c-b2230e4afd0c"
      },
      "source": [
        "for name in L:\n",
        "    print(name)\n",
        "\n",
        "for grade in grades:\n",
        "    print(grade)"
      ],
      "execution_count": null,
      "outputs": [
        {
          "output_type": "stream",
          "text": [
            "Dimitris\n",
            "Sotiris\n",
            "Katerina\n",
            "Christos\n",
            "Eleni\n",
            "5\n",
            "6\n",
            "7\n",
            "8\n",
            "3\n"
          ],
          "name": "stdout"
        }
      ]
    },
    {
      "cell_type": "code",
      "metadata": {
        "id": "HYid_yy7pU4g",
        "outputId": "69246f9b-1c98-4895-acef-c87309904f82"
      },
      "source": [
        "suffix =\"s\"\n",
        "for i in range(0,5):\n",
        "    if (L[i].endswith(suffix)):\n",
        "        print(\"O \", L[i], \" πήρε βαθμό: \", grades[i])\n",
        "    else:\n",
        "        print(\"H \", L[i], \" πήρε βαθμό: \", grades[i])\n",
        "        "
      ],
      "execution_count": null,
      "outputs": [
        {
          "output_type": "stream",
          "text": [
            "O  Dimitris  πήρε βαθμό:  5\n",
            "O  Sotiris  πήρε βαθμό:  6\n",
            "H  Katerina  πήρε βαθμό:  7\n",
            "O  Christos  πήρε βαθμό:  8\n",
            "H  Eleni  πήρε βαθμό:  3\n"
          ],
          "name": "stdout"
        }
      ]
    },
    {
      "cell_type": "code",
      "metadata": {
        "id": "XO2S2KUlpU4g",
        "outputId": "9fc6b7a3-a42d-4d78-fda6-1df9b63b1c44"
      },
      "source": [
        "\n",
        "x = \"Sotiris\"\n",
        "x[-1:] == 's'"
      ],
      "execution_count": null,
      "outputs": [
        {
          "output_type": "execute_result",
          "data": {
            "text/plain": [
              "True"
            ]
          },
          "metadata": {
            "tags": []
          },
          "execution_count": 83
        }
      ]
    },
    {
      "cell_type": "code",
      "metadata": {
        "id": "6U12OIVFpU4g",
        "outputId": "e0f3a1fa-a00b-4e06-e6eb-a460d07b1069"
      },
      "source": [
        "L[0]"
      ],
      "execution_count": null,
      "outputs": [
        {
          "output_type": "execute_result",
          "data": {
            "text/plain": [
              "'Dimitris'"
            ]
          },
          "metadata": {
            "tags": []
          },
          "execution_count": 55
        }
      ]
    },
    {
      "cell_type": "code",
      "metadata": {
        "id": "wmAvKqHepU4h",
        "outputId": "5f56fe3f-8290-4292-93ac-f065a029ff05"
      },
      "source": [
        "print(L[0])"
      ],
      "execution_count": null,
      "outputs": [
        {
          "output_type": "stream",
          "text": [
            "Dimitris\n"
          ],
          "name": "stdout"
        }
      ]
    },
    {
      "cell_type": "code",
      "metadata": {
        "id": "aTyawCcSpU4h",
        "outputId": "2e84e108-63be-46ed-cc4f-3e73862a23b5"
      },
      "source": [
        "print(L[1])"
      ],
      "execution_count": null,
      "outputs": [
        {
          "output_type": "stream",
          "text": [
            "Sotiris\n"
          ],
          "name": "stdout"
        }
      ]
    },
    {
      "cell_type": "code",
      "metadata": {
        "id": "pgi9Igd-pU4h",
        "outputId": "cb79caa7-d211-4f3e-dc60-dbe6131ab329"
      },
      "source": [
        "print(L[2])"
      ],
      "execution_count": null,
      "outputs": [
        {
          "output_type": "stream",
          "text": [
            "Katerina\n"
          ],
          "name": "stdout"
        }
      ]
    },
    {
      "cell_type": "markdown",
      "metadata": {
        "id": "0Glmb4sXpU4h"
      },
      "source": [
        "## Λειτουργίες & Μέθοδοι"
      ]
    },
    {
      "cell_type": "markdown",
      "metadata": {
        "id": "1H_cZ6OxpU4i"
      },
      "source": [
        "## Μήκος λίστας\n",
        "Όπως είχαμε δει και με τις συμβολοσειρές, έτσι και στις λίστες έχουμε μια συνάρτηση len, η οποία επιστρέφει το μήκος μιας λίστας. "
      ]
    },
    {
      "cell_type": "code",
      "metadata": {
        "id": "o3swyS2SpU4i"
      },
      "source": [
        "M = [1,3,4,5,5,6,6,6,77,87,8,88,8,8,88,8,8,8,8,88,8]"
      ],
      "execution_count": null,
      "outputs": []
    },
    {
      "cell_type": "code",
      "metadata": {
        "id": "K3mq6xEXpU4i",
        "outputId": "e7cd18bb-87aa-4865-93db-da1b618889aa"
      },
      "source": [
        "len(M)"
      ],
      "execution_count": null,
      "outputs": [
        {
          "output_type": "execute_result",
          "data": {
            "text/plain": [
              "21"
            ]
          },
          "metadata": {
            "tags": []
          },
          "execution_count": 60
        }
      ]
    },
    {
      "cell_type": "code",
      "metadata": {
        "id": "useSz-CfpU4i",
        "outputId": "64f000fc-1af0-454b-9f7c-8d58a59e55c7"
      },
      "source": [
        "sum(M)"
      ],
      "execution_count": null,
      "outputs": [
        {
          "output_type": "execute_result",
          "data": {
            "text/plain": [
              "528"
            ]
          },
          "metadata": {
            "tags": []
          },
          "execution_count": 61
        }
      ]
    },
    {
      "cell_type": "markdown",
      "metadata": {
        "id": "4uRHoxk8pU4j"
      },
      "source": [
        "**Φέτες από λίστες**\n",
        "\n",
        "Όπως και στις συμβολοσειρές, ο τελεστής φέτας (`slice`) δουλεύει επίσης και με τις λίστες. "
      ]
    },
    {
      "cell_type": "code",
      "metadata": {
        "id": "CIRUe3RxpU4j",
        "outputId": "09e813e9-157c-495a-d04d-c20d1b06c255"
      },
      "source": [
        "M[2:5]"
      ],
      "execution_count": null,
      "outputs": [
        {
          "output_type": "execute_result",
          "data": {
            "text/plain": [
              "[4, 5, 5]"
            ]
          },
          "metadata": {
            "tags": []
          },
          "execution_count": 65
        }
      ]
    },
    {
      "cell_type": "markdown",
      "metadata": {
        "id": "onMDcZvCpU4j"
      },
      "source": [
        "**Έλεγχος του “ανήκειν”**\n",
        "\n",
        "Ο `in` είναι λογικός τελεστής ο οποίος ελέγχει αν μια τιμή ανήκει σε μια λίστα (επιστρέφοντας true ή false) και δουλεύει όπως και στις συμβολοσειρές. \n",
        "Μπορούμε, επίσης, να χρησιμοποιήσουμε την έκφραση `not in`. "
      ]
    },
    {
      "cell_type": "code",
      "metadata": {
        "id": "V-WK0ojBpU4j"
      },
      "source": [
        "for patates in L: \n",
        "    print(patates) \n",
        "\n",
        "\n",
        "\n",
        "len(L)"
      ],
      "execution_count": null,
      "outputs": []
    },
    {
      "cell_type": "markdown",
      "metadata": {
        "id": "-uCyou2tpU4j"
      },
      "source": [
        "Η συνάρτηση `range` έχει ως ορίσματα δύο ακεραίους και επιστρέφει την ακολουθία των ακέραιων αριθμών στο διάστημα από το πρώτο έως \n",
        "το δεύτερό της όρισμα, συμπεριλαμβάνοντας το πρώτο όρισμα, αλλά αποκλείοντας το δεύτερο. "
      ]
    },
    {
      "cell_type": "code",
      "metadata": {
        "id": "WG0m5C2LpU4j"
      },
      "source": [
        "for ntomates in range(0,len(L)):\n",
        "     print(ntomates, L[ntomates].upper())"
      ],
      "execution_count": null,
      "outputs": []
    },
    {
      "cell_type": "markdown",
      "metadata": {
        "id": "yd721XotpU4k"
      },
      "source": [
        "**Κεφαλαία**"
      ]
    },
    {
      "cell_type": "markdown",
      "metadata": {
        "id": "Q_2mA-oapU4k"
      },
      "source": [
        "Μέθοδος για κεφαλαία συμβολοσειρά"
      ]
    },
    {
      "cell_type": "code",
      "metadata": {
        "id": "hB1n253QpU4k"
      },
      "source": [
        "\"Γεια σου\".upper()"
      ],
      "execution_count": null,
      "outputs": []
    },
    {
      "cell_type": "markdown",
      "metadata": {
        "id": "EakRYUvEpU4k"
      },
      "source": [
        "Λειτουργία για να βρούμε τον αριθμό των χαρακτήρων σε μια συμβολοσειρά"
      ]
    },
    {
      "cell_type": "code",
      "metadata": {
        "id": "JGPlnuWfpU4k"
      },
      "source": [
        "len(\"καλημέρα\") "
      ],
      "execution_count": null,
      "outputs": []
    },
    {
      "cell_type": "markdown",
      "metadata": {
        "id": "Xp50kEeypU4k"
      },
      "source": [
        "Λειτουργία για να ιεραρχήσουμε μια λίστα με αριθμούς "
      ]
    },
    {
      "cell_type": "code",
      "metadata": {
        "id": "OwjhuIpzpU4k",
        "outputId": "b55923ee-8512-4e80-87e1-ac72913faa0c"
      },
      "source": [
        "sorted([0, 5, 4, 2, 3, 1]) "
      ],
      "execution_count": null,
      "outputs": [
        {
          "output_type": "execute_result",
          "data": {
            "text/plain": [
              "[0, 1, 2, 3, 4, 5]"
            ]
          },
          "metadata": {
            "tags": []
          },
          "execution_count": 103
        }
      ]
    },
    {
      "cell_type": "code",
      "metadata": {
        "id": "of6v4_0upU4l",
        "outputId": "2ceedaa6-b790-4c96-8545-b89d301fb9d2"
      },
      "source": [
        "M = [\"Giannis\", \"Kostas\", \"Dimitris\", \"Paris\"]\n",
        "sorted(M)"
      ],
      "execution_count": null,
      "outputs": [
        {
          "output_type": "execute_result",
          "data": {
            "text/plain": [
              "['Dimitris', 'Giannis', 'Kostas', 'Paris']"
            ]
          },
          "metadata": {
            "tags": []
          },
          "execution_count": 104
        }
      ]
    },
    {
      "cell_type": "markdown",
      "metadata": {
        "id": "hQqC6Z3xpU4l"
      },
      "source": [
        "Μέθοδος για αντικατάσταση κειμένου με κείμενο "
      ]
    },
    {
      "cell_type": "code",
      "metadata": {
        "id": "ltfH3N5SpU4l",
        "outputId": "e2de73f7-db0c-403f-fb26-9b8a2d5afe7b"
      },
      "source": [
        "\"123123123\".replace(\"12\", \"_\") "
      ],
      "execution_count": null,
      "outputs": [
        {
          "output_type": "execute_result",
          "data": {
            "text/plain": [
              "'_3_3_3'"
            ]
          },
          "metadata": {
            "tags": []
          },
          "execution_count": 105
        }
      ]
    },
    {
      "cell_type": "code",
      "metadata": {
        "id": "vajBplTSpU4m",
        "outputId": "be5e1dbb-64a3-4dc7-9d12-b43eab99859e"
      },
      "source": [
        "\"Maria\".replace(\"a\",\"i\")"
      ],
      "execution_count": null,
      "outputs": [
        {
          "output_type": "execute_result",
          "data": {
            "text/plain": [
              "'Mirii'"
            ]
          },
          "metadata": {
            "tags": []
          },
          "execution_count": 106
        }
      ]
    },
    {
      "cell_type": "markdown",
      "metadata": {
        "collapsed": true,
        "id": "DZZP8DWvpU4m"
      },
      "source": [
        "Οι λειτουργίες δίνουν αποτέλεσμα έξω από τις μεταβλητές, ενώ οι μέθοδοι επηρεάζουν τις ίδιες τις μεταβλητές.\n",
        "\n",
        "Μην ξεχνάτε το σύμβολο () γιατί διαφορετικά οι λειτουργίες και οι μέθοδοί σας δεν θα δουλέψουν."
      ]
    },
    {
      "cell_type": "markdown",
      "metadata": {
        "id": "pUE4xKympU4n"
      },
      "source": [
        "# Λειτουργίες & Μέθοδοι για αριθμούς"
      ]
    },
    {
      "cell_type": "markdown",
      "metadata": {
        "id": "9WNRoL2npU4n"
      },
      "source": [
        "**Στρογγυλοποίηση δεκαδικών**"
      ]
    },
    {
      "cell_type": "code",
      "metadata": {
        "id": "ADScBAHjpU4n",
        "outputId": "4eb503ee-1e69-4083-a13b-4a83bf6a9cdb"
      },
      "source": [
        "L = [1.34546, 23.5666, 6.566646]\n",
        "for number in L:\n",
        "     print(round(number))"
      ],
      "execution_count": null,
      "outputs": [
        {
          "output_type": "stream",
          "text": [
            "1\n",
            "24\n",
            "7\n"
          ],
          "name": "stdout"
        }
      ]
    },
    {
      "cell_type": "markdown",
      "metadata": {
        "id": "4I5qJMAopU4o"
      },
      "source": [
        "Στρογγυλοποίηση προς τα πάνω και προς τα κάτω.\n",
        "\n",
        "Απαιτούνται εξωτερικές βιβλιοθήκες - κώδικας που έγραψε κάποιος άλλος και που.\n",
        "\n",
        "δεν συμπεριλαμβάνεται αυτόματα στην Python."
      ]
    },
    {
      "cell_type": "code",
      "metadata": {
        "id": "j2Fc5f_XpU4o",
        "outputId": "22620149-412e-401b-e036-09516ae1ebff"
      },
      "source": [
        "import math\n",
        "print(math.ceil(3.14159))\n",
        "print(math.floor(3.14159))"
      ],
      "execution_count": null,
      "outputs": [
        {
          "output_type": "stream",
          "text": [
            "4\n",
            "3\n"
          ],
          "name": "stdout"
        }
      ]
    },
    {
      "cell_type": "markdown",
      "metadata": {
        "id": "Mw_pFA27pU4o"
      },
      "source": [
        "# Συναρτήσεις & Μέθοδοι για συμβολοσειρές"
      ]
    },
    {
      "cell_type": "markdown",
      "metadata": {
        "id": "CEZf5cAFpU4o"
      },
      "source": [
        " Μάκρος συμβολοσειράς"
      ]
    },
    {
      "cell_type": "code",
      "metadata": {
        "id": "SvwBoDRKpU4o",
        "outputId": "c29c4049-ccce-4f8b-ac8f-059b5754dc51"
      },
      "source": [
        "len(\"yourstring\")"
      ],
      "execution_count": null,
      "outputs": [
        {
          "output_type": "execute_result",
          "data": {
            "text/plain": [
              "10"
            ]
          },
          "metadata": {
            "tags": []
          },
          "execution_count": 112
        }
      ]
    },
    {
      "cell_type": "code",
      "metadata": {
        "id": "HxmNEDUqpU4p",
        "outputId": "bb5fe193-51a6-4ab2-e6bf-9e8c23fe476e"
      },
      "source": [
        "len(M)"
      ],
      "execution_count": null,
      "outputs": [
        {
          "output_type": "execute_result",
          "data": {
            "text/plain": [
              "4"
            ]
          },
          "metadata": {
            "tags": []
          },
          "execution_count": 114
        }
      ]
    },
    {
      "cell_type": "markdown",
      "metadata": {
        "id": "KjrQn6ARpU4p"
      },
      "source": [
        "Αντικατάσταση περιεχομένου στη συμβολοσειρά"
      ]
    },
    {
      "cell_type": "code",
      "metadata": {
        "id": "1qsfKyhdpU4p",
        "outputId": "9aa10c1d-aa2c-495c-c17c-af89afb007bb"
      },
      "source": [
        "\"yourstring\".replace(\"your\", \"my\")"
      ],
      "execution_count": null,
      "outputs": [
        {
          "output_type": "execute_result",
          "data": {
            "text/plain": [
              "'mystring'"
            ]
          },
          "metadata": {
            "tags": []
          },
          "execution_count": 115
        }
      ]
    },
    {
      "cell_type": "markdown",
      "metadata": {
        "id": "VMoATA9ppU4p"
      },
      "source": [
        "Αλλαγή στους χαρακτήρες της συμβολοσειράς"
      ]
    },
    {
      "cell_type": "code",
      "metadata": {
        "id": "okeFdaNhpU4p",
        "outputId": "33c973f6-7864-4699-f617-261e5a6ad669"
      },
      "source": [
        "#\"Your String\".upper()\n",
        "#\"Your String\".lower()\n",
        "#\"Your String\".title()\n",
        "\"Your String\".swapcase()"
      ],
      "execution_count": null,
      "outputs": [
        {
          "output_type": "execute_result",
          "data": {
            "text/plain": [
              "'yOUR sTRING'"
            ]
          },
          "metadata": {
            "tags": []
          },
          "execution_count": 117
        }
      ]
    },
    {
      "cell_type": "markdown",
      "metadata": {
        "id": "l-KtwZTFpU4p"
      },
      "source": [
        "Μέτρηση του αριθμού κάποιυ χαρακτήρα ή χαρακτήρων εντός συμβολοσειράς"
      ]
    },
    {
      "cell_type": "code",
      "metadata": {
        "id": "h1dW_6PtpU4q",
        "outputId": "36db9f73-b479-4c33-d98b-833a4f071f10"
      },
      "source": [
        "\"Your String\".count(\"ur\")"
      ],
      "execution_count": null,
      "outputs": [
        {
          "output_type": "execute_result",
          "data": {
            "text/plain": [
              "1"
            ]
          },
          "metadata": {
            "tags": []
          },
          "execution_count": 119
        }
      ]
    },
    {
      "cell_type": "markdown",
      "metadata": {
        "id": "02fOGondpU4q"
      },
      "source": [
        "Έλεγχος για το εάν η συμβολοσειρά τελειώνει με κάτι συγκεκριμένο"
      ]
    },
    {
      "cell_type": "code",
      "metadata": {
        "id": "W-GFkiF_pU4q",
        "outputId": "93229577-dab1-408f-e0e2-60fc35b20249"
      },
      "source": [
        "\"Your String\".endswith(\"ng\")"
      ],
      "execution_count": null,
      "outputs": [
        {
          "output_type": "execute_result",
          "data": {
            "text/plain": [
              "True"
            ]
          },
          "metadata": {
            "tags": []
          },
          "execution_count": 120
        }
      ]
    },
    {
      "cell_type": "markdown",
      "metadata": {
        "id": "UNWTU4bupU4q"
      },
      "source": [
        "Διαχωρισμός σε λίστα με βάση κάποιους χαρακτήρες "
      ]
    },
    {
      "cell_type": "code",
      "metadata": {
        "id": "7MRW0Q72pU4q",
        "outputId": "7f5c63ac-09ef-4894-df54-5a5e6d266e91"
      },
      "source": [
        "\"mourlas@media.uoa.gr\".replace(\"@\",'$').replace(\".\", \"$\").upper().split(\"$\")\n",
        "#\"Your String\".split(\" \")"
      ],
      "execution_count": null,
      "outputs": [
        {
          "output_type": "execute_result",
          "data": {
            "text/plain": [
              "['MOURLAS', 'MEDIA', 'UOA', 'GR']"
            ]
          },
          "metadata": {
            "tags": []
          },
          "execution_count": 123
        }
      ]
    },
    {
      "cell_type": "markdown",
      "metadata": {
        "id": "p2HkMJYZpU4r"
      },
      "source": [
        "Ένωση λίστας μέσα σε συμβολοσειρά στη βάση κάποιων χαρακτήρων "
      ]
    },
    {
      "cell_type": "code",
      "metadata": {
        "id": "QgSLIEcIpU4r",
        "outputId": "efa2af68-8cfa-4d8b-94c4-4b5981b8d728"
      },
      "source": [
        "\" \".join([\"mourlas\", \"media\", \"uoa\"])\n",
        "#\"ou\".join([\"Your\", \"String\"])"
      ],
      "execution_count": null,
      "outputs": [
        {
          "output_type": "execute_result",
          "data": {
            "text/plain": [
              "'mourlas media uoa'"
            ]
          },
          "metadata": {
            "tags": []
          },
          "execution_count": 128
        }
      ]
    },
    {
      "cell_type": "markdown",
      "metadata": {
        "id": "_9HtDscIpU4r"
      },
      "source": [
        "## <span style=\"color:red\">*Άσκηση 1*</span>\n",
        "\n",
        "<span style=\"color:red\">\n",
        "\n",
        "Αλλάξτε το όνομα του notebook βάζοντας το όνομά σας και homework-1-part1-lastname\n",
        "\n",
        "Ακριβώς κάτω από αυτό το κελί προσθέστε νέα κελιά στα οποία θα:\n",
        "\n",
        "Θα φτιάξετε μια λίστα με τους παρακάτω αριθμούς: 23, 91, 0, -11, 4, 23 και 49.\n",
        "Βρείτε τον αριθμό των αντικειμένων της λίστας.\n",
        "Βρείτε το 4ο στοιχείο της λίστας.\n",
        "Βρείτε το άθροισμα του 2ου και του 4ου στοιχείου της λίστας.\n",
        "Βρείτε το 2ο μεγαλύτερο στοιχείο της λίστας.\n",
        "Βρείτε το τελευταίο αντικείμενο της αρχικής λίστας (χωρίς σορτάρισμα).\n",
        "Για κάθε αριθμό να εμφανίσετε έναν αριθμό: αν ο αρχικός αριθμός είναι μεγαλύτερος του 10, πολλαπλασιάστε με το 30. Αν επίσης είναι ζυγός αριθμός, προσθέστε 6. Αν είναι μεγαλύτερος του 50, αφαιρέστε 10. Αν δεν είναι ίσος με -11, αφαιρέστε 1. (Για παράδειγμα το 12 είναι μεγαλύτερο του 10, άρα πολλαπλασιάζουμε 12 * 30 = 360, είναι επίσης ζυγός αριθμός, άρα 360 + 6 = 366, δεν είναι ίσο με -11, άρα 366-1=365.)\n",
        "\n",
        "Βρείτε το σύνολο των αριθμών δια δύο.\n",
        "</span>"
      ]
    },
    {
      "cell_type": "markdown",
      "metadata": {
        "id": "DsuhFR3sEr6C"
      },
      "source": [
        "1. Θα φτιάξετε μια λίστα με τους παρακάτω αριθμούς: 23, 91, 0, -11, 4, 23 και 49."
      ]
    },
    {
      "cell_type": "code",
      "metadata": {
        "id": "jEya7CsSpU4r"
      },
      "source": [
        "L=[21, 91 ,0 ,-11,4,23,49]\n",
        "print(len(L))\n",
        "print (L[3])\n",
        "print(L[1]+L[3]) \n",
        "print (sorted(L)[len(L)-2])\n",
        "print(L[len(L)-1])\n",
        "for i in range(0,len(L)):\n",
        "  if (L[i]>10):\n",
        "    L[i]=L[i]*30\n",
        "  if (L[i]%2==0):\n",
        "    L[i]=L[i]+6\n",
        "  if (L[i]>50):\n",
        "    L[i]=L[i]-10\n",
        "  if (L[i]!=-11):\n",
        "    L[i]=L[i]-1\n",
        "  print (L[i])\n",
        "print(sum(L)/2)"
      ],
      "execution_count": null,
      "outputs": []
    }
  ]
}